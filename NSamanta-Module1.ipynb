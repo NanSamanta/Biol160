{
 "cells": [
  {
   "cell_type": "markdown",
   "id": "a1a31438",
   "metadata": {},
   "source": [
    "# Getting Used to Jupyter"
   ]
  },
  {
   "cell_type": "code",
   "execution_count": 26,
   "id": "995e0a12",
   "metadata": {},
   "outputs": [],
   "source": [
    "from IPython.core.interactiveshell import InteractiveShell\n",
    "InteractiveShell.ast_node_interactivity = 'all'"
   ]
  },
  {
   "cell_type": "code",
   "execution_count": 2,
   "id": "a9377c7b",
   "metadata": {},
   "outputs": [
    {
     "name": "stdout",
     "output_type": "stream",
     "text": [
      "Hello World\n"
     ]
    }
   ],
   "source": [
    "print(\"Hello World\")"
   ]
  },
  {
   "cell_type": "markdown",
   "id": "8799397d",
   "metadata": {},
   "source": [
    "The output is just printing the string 'Hello World'. Print simply outputs the input string. "
   ]
  },
  {
   "cell_type": "markdown",
   "id": "848d72c6",
   "metadata": {},
   "source": [
    "# Variables/Data Types"
   ]
  },
  {
   "cell_type": "code",
   "execution_count": 3,
   "id": "25475922",
   "metadata": {},
   "outputs": [
    {
     "data": {
      "text/plain": [
       "int"
      ]
     },
     "execution_count": 3,
     "metadata": {},
     "output_type": "execute_result"
    }
   ],
   "source": [
    "a = 1\n",
    "type(a)"
   ]
  },
  {
   "cell_type": "code",
   "execution_count": 4,
   "id": "5b3dd4ce",
   "metadata": {},
   "outputs": [
    {
     "data": {
      "text/plain": [
       "float"
      ]
     },
     "execution_count": 4,
     "metadata": {},
     "output_type": "execute_result"
    }
   ],
   "source": [
    "b = 0.1\n",
    "type(b)"
   ]
  },
  {
   "cell_type": "code",
   "execution_count": 5,
   "id": "512e9ee4",
   "metadata": {
    "scrolled": true
   },
   "outputs": [
    {
     "data": {
      "text/plain": [
       "str"
      ]
     },
     "execution_count": 5,
     "metadata": {},
     "output_type": "execute_result"
    }
   ],
   "source": [
    "c = \"c\"\n",
    "type(c)"
   ]
  },
  {
   "cell_type": "code",
   "execution_count": 6,
   "id": "2f3334c5",
   "metadata": {},
   "outputs": [
    {
     "data": {
      "text/plain": [
       "1.0"
      ]
     },
     "execution_count": 6,
     "metadata": {},
     "output_type": "execute_result"
    }
   ],
   "source": [
    "float(a) # it is possible to convert int to float"
   ]
  },
  {
   "cell_type": "code",
   "execution_count": 12,
   "id": "00552eb4",
   "metadata": {},
   "outputs": [
    {
     "data": {
      "text/plain": [
       "str"
      ]
     },
     "execution_count": 12,
     "metadata": {},
     "output_type": "execute_result"
    }
   ],
   "source": [
    "a = str(a)\n",
    "type(a)"
   ]
  },
  {
   "cell_type": "code",
   "execution_count": 10,
   "id": "32df67aa",
   "metadata": {},
   "outputs": [
    {
     "data": {
      "text/plain": [
       "int"
      ]
     },
     "execution_count": 10,
     "metadata": {},
     "output_type": "execute_result"
    }
   ],
   "source": [
    "b= int(b)\n",
    "type(b)"
   ]
  },
  {
   "cell_type": "code",
   "execution_count": 11,
   "id": "05649d90",
   "metadata": {},
   "outputs": [
    {
     "data": {
      "text/plain": [
       "str"
      ]
     },
     "execution_count": 11,
     "metadata": {},
     "output_type": "execute_result"
    }
   ],
   "source": [
    "b = chr(b)\n",
    "type(b)"
   ]
  },
  {
   "cell_type": "code",
   "execution_count": 15,
   "id": "3d1535a2",
   "metadata": {},
   "outputs": [
    {
     "data": {
      "text/plain": [
       "list"
      ]
     },
     "execution_count": 15,
     "metadata": {},
     "output_type": "execute_result"
    }
   ],
   "source": [
    "d = [1,2,3,4,4]\n",
    "type(d)"
   ]
  },
  {
   "cell_type": "code",
   "execution_count": 16,
   "id": "7e8eb74f",
   "metadata": {},
   "outputs": [
    {
     "data": {
      "text/plain": [
       "tuple"
      ]
     },
     "execution_count": 16,
     "metadata": {},
     "output_type": "execute_result"
    }
   ],
   "source": [
    "e = (\"first\", \"second\", \"third\")\n",
    "type(e)"
   ]
  },
  {
   "cell_type": "code",
   "execution_count": 17,
   "id": "55304026",
   "metadata": {},
   "outputs": [
    {
     "data": {
      "text/plain": [
       "dict"
      ]
     },
     "execution_count": 17,
     "metadata": {},
     "output_type": "execute_result"
    }
   ],
   "source": [
    "f = {\"key1\":\"val1\", \"key2\": \"val2\", \"key3\":\"val3\"}\n",
    "type(f)"
   ]
  },
  {
   "cell_type": "code",
   "execution_count": 23,
   "id": "afccd226",
   "metadata": {},
   "outputs": [
    {
     "data": {
      "text/plain": [
       "['key1', 'key2', 'key3']"
      ]
     },
     "execution_count": 23,
     "metadata": {},
     "output_type": "execute_result"
    }
   ],
   "source": [
    "list(f)"
   ]
  },
  {
   "cell_type": "markdown",
   "id": "8080489a",
   "metadata": {},
   "source": [
    "# Object Oriented Programming "
   ]
  },
  {
   "cell_type": "code",
   "execution_count": 27,
   "id": "05f70347",
   "metadata": {},
   "outputs": [],
   "source": [
    "class School:\n",
    "    def __init__(self, Name, State):\n",
    "        self.Name = Name\n",
    "        self.State = \"University of Rochester\"\n",
    "class Student(School): \n",
    "    def __init__(self, Name, ID, School):\n",
    "        self.ID = ID"
   ]
  },
  {
   "cell_type": "code",
   "execution_count": 53,
   "id": "010a2567",
   "metadata": {},
   "outputs": [
    {
     "data": {
      "text/plain": [
       "__main__.School"
      ]
     },
     "execution_count": 53,
     "metadata": {},
     "output_type": "execute_result"
    },
    {
     "data": {
      "text/plain": [
       "__main__.School"
      ]
     },
     "execution_count": 53,
     "metadata": {},
     "output_type": "execute_result"
    }
   ],
   "source": [
    "student1 = School(\"Nani\", \"UR\")\n",
    "student2 = School(\"Terry\", \"UR\")\n",
    "type(student1)\n",
    "type(student2)"
   ]
  },
  {
   "cell_type": "code",
   "execution_count": 40,
   "id": "76a8b7fd",
   "metadata": {},
   "outputs": [],
   "source": [
    "class Undergrad(Student):\n",
    "    def __init__(self, Major, YearofGrad):\n",
    "        self.Major = Major\n",
    "        self.YearofGrad = YearofGrad"
   ]
  },
  {
   "cell_type": "code",
   "execution_count": null,
   "id": "bd3e65e2",
   "metadata": {},
   "outputs": [],
   "source": [
    "terry = Undergrad(\"CompBio\", 2022)\n",
    "nani = Undergrad(\"MolGenetics\", 2022)\n",
    "type(terry)\n",
    "isinstance(terry, Student)\n",
    "type(nani)\n",
    "isinstance(nani, Student)"
   ]
  },
  {
   "cell_type": "markdown",
   "id": "849c5ff2",
   "metadata": {},
   "source": [
    "# Functions, Conditionals, Loops"
   ]
  },
  {
   "cell_type": "code",
   "execution_count": null,
   "id": "13474ab4",
   "metadata": {},
   "outputs": [],
   "source": [
    "def listlength(somelist):\n",
    "    print(len(somelist))"
   ]
  },
  {
   "cell_type": "code",
   "execution_count": 79,
   "id": "62eb2d53",
   "metadata": {},
   "outputs": [],
   "source": [
    "class School:\n",
    "    State = \"University of Rochester\"\n",
    "    def __init__(self, Name):\n",
    "        self.Name = Name\n",
    "    def printname(self):\n",
    "        print(self.Name)\n",
    "    def printstate(self):\n",
    "        print(self.State)"
   ]
  },
  {
   "cell_type": "code",
   "execution_count": 85,
   "id": "e157cdd0",
   "metadata": {},
   "outputs": [
    {
     "name": "stdout",
     "output_type": "stream",
     "text": [
      "University of Rochester\n",
      "NY\n",
      "4527246072 4527246072\n"
     ]
    }
   ],
   "source": [
    "ur = School('University of Rochester')\n",
    "ur.State = 'NY'\n",
    "print(id(ur.printname()), id(ur.printstate()))"
   ]
  },
  {
   "cell_type": "code",
   "execution_count": 91,
   "id": "0d6b6de6",
   "metadata": {},
   "outputs": [],
   "source": [
    "def sumfun(a,b,c):\n",
    "    ans = a+b+c\n",
    "    return(ans)"
   ]
  },
  {
   "cell_type": "code",
   "execution_count": 92,
   "id": "12e81dd7",
   "metadata": {},
   "outputs": [
    {
     "data": {
      "text/plain": [
       "6"
      ]
     },
     "execution_count": 92,
     "metadata": {},
     "output_type": "execute_result"
    }
   ],
   "source": [
    "sumfun(1,2,3)"
   ]
  },
  {
   "cell_type": "code",
   "execution_count": 93,
   "id": "74856d92",
   "metadata": {},
   "outputs": [],
   "source": [
    "def multiply(a,b,c):\n",
    "    ans = a*b*c\n",
    "    return(ans)"
   ]
  },
  {
   "cell_type": "code",
   "execution_count": 94,
   "id": "b3482076",
   "metadata": {},
   "outputs": [
    {
     "data": {
      "text/plain": [
       "6"
      ]
     },
     "execution_count": 94,
     "metadata": {},
     "output_type": "execute_result"
    }
   ],
   "source": [
    "multiply(1,2,3)"
   ]
  },
  {
   "cell_type": "code",
   "execution_count": 95,
   "id": "9823804e",
   "metadata": {},
   "outputs": [],
   "source": [
    "def sum_and_multiply(a,b,c):\n",
    "    return(sumfun(a,b,c), multiply(a,b,c))"
   ]
  },
  {
   "cell_type": "code",
   "execution_count": 96,
   "id": "cbd7168e",
   "metadata": {},
   "outputs": [
    {
     "data": {
      "text/plain": [
       "(15, 120)"
      ]
     },
     "execution_count": 96,
     "metadata": {},
     "output_type": "execute_result"
    }
   ],
   "source": [
    "sum_and_multiply(4,5,6)"
   ]
  },
  {
   "cell_type": "code",
   "execution_count": 110,
   "id": "fd59f489",
   "metadata": {},
   "outputs": [],
   "source": [
    "def sum_or_multiply(a,b,c,boolean): \n",
    "    if boolean ==True:\n",
    "        return(sumfun(a,b,c))\n",
    "    else:\n",
    "        return(multiply(a,b,c,))"
   ]
  },
  {
   "cell_type": "code",
   "execution_count": 111,
   "id": "3698f3e4",
   "metadata": {},
   "outputs": [
    {
     "data": {
      "text/plain": [
       "120"
      ]
     },
     "execution_count": 111,
     "metadata": {},
     "output_type": "execute_result"
    },
    {
     "data": {
      "text/plain": [
       "15"
      ]
     },
     "execution_count": 111,
     "metadata": {},
     "output_type": "execute_result"
    }
   ],
   "source": [
    "sum_or_multiply(4,5,6,False)\n",
    "sum_or_multiply(4,5,6,True)"
   ]
  },
  {
   "cell_type": "code",
   "execution_count": 143,
   "id": "8a63a644",
   "metadata": {},
   "outputs": [],
   "source": [
    "def sumlist(somelist):\n",
    "    ct=0\n",
    "    for i in range(0, len(somelist)):\n",
    "        start = somelist[i]\n",
    "        ct = start + ct\n",
    "    return(ct)"
   ]
  },
  {
   "cell_type": "code",
   "execution_count": 144,
   "id": "ba01b16b",
   "metadata": {},
   "outputs": [
    {
     "data": {
      "text/plain": [
       "1247"
      ]
     },
     "execution_count": 144,
     "metadata": {},
     "output_type": "execute_result"
    }
   ],
   "source": [
    "somelist= [1, 456, 567, 22, 98, 103]\n",
    "sumlist(somelist)"
   ]
  },
  {
   "cell_type": "code",
   "execution_count": 158,
   "id": "fe5d1b71",
   "metadata": {},
   "outputs": [],
   "source": [
    "def dictionary_value(somedict):\n",
    "    i=0\n",
    "    while i < len(somedict):\n",
    "        i+=1\n",
    "        return(somedict)"
   ]
  },
  {
   "cell_type": "code",
   "execution_count": 159,
   "id": "c58b84ae",
   "metadata": {},
   "outputs": [],
   "source": [
    "somedict= {'key1':\"val1\", 'key2':'val2', 'key3':'val3'}"
   ]
  },
  {
   "cell_type": "code",
   "execution_count": 160,
   "id": "2c15906f",
   "metadata": {
    "scrolled": true
   },
   "outputs": [
    {
     "data": {
      "text/plain": [
       "{'key1': 'val1', 'key2': 'val2', 'key3': 'val3'}"
      ]
     },
     "execution_count": 160,
     "metadata": {},
     "output_type": "execute_result"
    }
   ],
   "source": [
    "dictionary_value(somedict)"
   ]
  },
  {
   "cell_type": "code",
   "execution_count": 34,
   "id": "61bd2efe",
   "metadata": {},
   "outputs": [],
   "source": [
    "def five_three(someint):\n",
    "    numlist = list(range(0,someint))\n",
    "    end_list = list()\n",
    "    for i in numlist:\n",
    "        div_five = i/5 - int(i/5)\n",
    "        div_three = i/3 - int(i/3)\n",
    "        div_fifteen = i/15 - int(i/15)\n",
    "        if (div_five==0 or div_three==0 and div_fifteen !=0):\n",
    "            end_list.append(i)\n",
    "        else: \n",
    "            next\n",
    "    return(end_list)"
   ]
  },
  {
   "cell_type": "code",
   "execution_count": 37,
   "id": "3a21be8a",
   "metadata": {},
   "outputs": [
    {
     "data": {
      "text/plain": [
       "[0, 3, 5, 6, 9, 10, 12, 15, 18, 20, 21, 24, 25, 27, 30, 33, 35, 36, 39, 40, 42]"
      ]
     },
     "execution_count": 37,
     "metadata": {},
     "output_type": "execute_result"
    }
   ],
   "source": [
    "five_three(45)"
   ]
  },
  {
   "cell_type": "markdown",
   "id": "fba75732",
   "metadata": {},
   "source": [
    "# Recursive"
   ]
  },
  {
   "cell_type": "code",
   "execution_count": 41,
   "id": "d88d14cb",
   "metadata": {},
   "outputs": [],
   "source": [
    "def sumlist(somelist):\n",
    "    # base case should be +0\n",
    "    # end condition: no more values in list \n",
    "    i = 0\n",
    "    if len(somelist)==0:\n",
    "        return 0\n",
    "    else:\n",
    "        if somelist[i] < 0: \n",
    "            raise AssertionError(\"This list contains a negative number.\")\n",
    "        return somelist[i] + sumlist(somelist[(i+1):])"
   ]
  },
  {
   "cell_type": "code",
   "execution_count": 49,
   "id": "e32a6a69",
   "metadata": {},
   "outputs": [
    {
     "data": {
      "text/plain": [
       "4950"
      ]
     },
     "execution_count": 49,
     "metadata": {},
     "output_type": "execute_result"
    },
    {
     "ename": "AssertionError",
     "evalue": "This list contains a negative number.",
     "output_type": "error",
     "traceback": [
      "\u001b[0;31m---------------------------------------------------------------------------\u001b[0m",
      "\u001b[0;31mAssertionError\u001b[0m                            Traceback (most recent call last)",
      "\u001b[0;32m<ipython-input-49-40dc0de8c09d>\u001b[0m in \u001b[0;36m<module>\u001b[0;34m\u001b[0m\n\u001b[1;32m      1\u001b[0m \u001b[0msumlist\u001b[0m\u001b[0;34m(\u001b[0m\u001b[0mlist\u001b[0m\u001b[0;34m(\u001b[0m\u001b[0mrange\u001b[0m\u001b[0;34m(\u001b[0m\u001b[0;36m0\u001b[0m\u001b[0;34m,\u001b[0m\u001b[0;36m100\u001b[0m\u001b[0;34m)\u001b[0m\u001b[0;34m)\u001b[0m\u001b[0;34m)\u001b[0m\u001b[0;34m\u001b[0m\u001b[0;34m\u001b[0m\u001b[0m\n\u001b[0;32m----> 2\u001b[0;31m \u001b[0msumlist\u001b[0m\u001b[0;34m(\u001b[0m\u001b[0mlist\u001b[0m\u001b[0;34m(\u001b[0m\u001b[0mrange\u001b[0m\u001b[0;34m(\u001b[0m\u001b[0;34m-\u001b[0m\u001b[0;36m5\u001b[0m\u001b[0;34m,\u001b[0m \u001b[0;36m10\u001b[0m\u001b[0;34m)\u001b[0m\u001b[0;34m)\u001b[0m\u001b[0;34m)\u001b[0m\u001b[0;34m\u001b[0m\u001b[0;34m\u001b[0m\u001b[0m\n\u001b[0m",
      "\u001b[0;32m<ipython-input-41-c98eda4e7198>\u001b[0m in \u001b[0;36msumlist\u001b[0;34m(somelist)\u001b[0m\n\u001b[1;32m      8\u001b[0m     \u001b[0;32melse\u001b[0m\u001b[0;34m:\u001b[0m\u001b[0;34m\u001b[0m\u001b[0;34m\u001b[0m\u001b[0m\n\u001b[1;32m      9\u001b[0m         \u001b[0;32mif\u001b[0m \u001b[0msomelist\u001b[0m\u001b[0;34m[\u001b[0m\u001b[0mi\u001b[0m\u001b[0;34m]\u001b[0m \u001b[0;34m<\u001b[0m \u001b[0;36m0\u001b[0m\u001b[0;34m:\u001b[0m\u001b[0;34m\u001b[0m\u001b[0;34m\u001b[0m\u001b[0m\n\u001b[0;32m---> 10\u001b[0;31m             \u001b[0;32mraise\u001b[0m \u001b[0mAssertionError\u001b[0m\u001b[0;34m(\u001b[0m\u001b[0;34m\"This list contains a negative number.\"\u001b[0m\u001b[0;34m)\u001b[0m\u001b[0;34m\u001b[0m\u001b[0;34m\u001b[0m\u001b[0m\n\u001b[0m\u001b[1;32m     11\u001b[0m         \u001b[0;32mreturn\u001b[0m \u001b[0msomelist\u001b[0m\u001b[0;34m[\u001b[0m\u001b[0mi\u001b[0m\u001b[0;34m]\u001b[0m \u001b[0;34m+\u001b[0m \u001b[0msumlist\u001b[0m\u001b[0;34m(\u001b[0m\u001b[0msomelist\u001b[0m\u001b[0;34m[\u001b[0m\u001b[0;34m(\u001b[0m\u001b[0mi\u001b[0m\u001b[0;34m+\u001b[0m\u001b[0;36m1\u001b[0m\u001b[0;34m)\u001b[0m\u001b[0;34m:\u001b[0m\u001b[0;34m]\u001b[0m\u001b[0;34m)\u001b[0m\u001b[0;34m\u001b[0m\u001b[0;34m\u001b[0m\u001b[0m\n",
      "\u001b[0;31mAssertionError\u001b[0m: This list contains a negative number."
     ]
    }
   ],
   "source": [
    "sumlist(list(range(0,100)))\n",
    "sumlist(list(range(-5, 10)))"
   ]
  },
  {
   "cell_type": "code",
   "execution_count": 63,
   "id": "3f8dac90",
   "metadata": {},
   "outputs": [],
   "source": [
    "def harmonic_sum(someint):\n",
    "    # base case should still be plus 0\n",
    "    # end condition should be when 20 elements \n",
    "    if (someint <= 20 and someint>0):\n",
    "        return 1/(someint) + harmonic_sum(someint-1)\n",
    "    if (someint == 0):\n",
    "        return 0\n",
    "    elif(someint>20):\n",
    "        return (harmonic_sum(20), \"Your input was greater than 20\")"
   ]
  },
  {
   "cell_type": "code",
   "execution_count": 64,
   "id": "c3c033b3",
   "metadata": {},
   "outputs": [
    {
     "data": {
      "text/plain": [
       "3.597739657143682"
      ]
     },
     "execution_count": 64,
     "metadata": {},
     "output_type": "execute_result"
    },
    {
     "data": {
      "text/plain": [
       "(3.597739657143682, 'Your input was greater than 20')"
      ]
     },
     "execution_count": 64,
     "metadata": {},
     "output_type": "execute_result"
    }
   ],
   "source": [
    "harmonic_sum(20)\n",
    "harmonic_sum(45)"
   ]
  },
  {
   "cell_type": "code",
   "execution_count": 162,
   "id": "511f9037",
   "metadata": {},
   "outputs": [],
   "source": [
    "def Fibonacci(someint):\n",
    "    # end condition is when 20 elements have been added \n",
    "    # base condition is plus the last number\n",
    "    # test_list = sorted(list(range(0, someint+1)), reverse=True)\n",
    "    if someint==0 or someint==1:\n",
    "        return someint\n",
    "    return Fibonacci(someint-1)+Fibonacci(someint-2)"
   ]
  },
  {
   "cell_type": "code",
   "execution_count": 164,
   "id": "c054e834",
   "metadata": {
    "scrolled": true
   },
   "outputs": [
    {
     "name": "stdout",
     "output_type": "stream",
     "text": [
      "0\n",
      "1\n",
      "1\n",
      "2\n",
      "3\n",
      "5\n",
      "8\n",
      "13\n",
      "21\n",
      "34\n",
      "55\n",
      "89\n",
      "144\n",
      "233\n",
      "377\n",
      "610\n",
      "987\n",
      "1597\n",
      "2584\n",
      "4181\n"
     ]
    }
   ],
   "source": [
    "for i in range(20):\n",
    "    print(Fibonacci(i))"
   ]
  },
  {
   "cell_type": "code",
   "execution_count": 165,
   "id": "295c733d",
   "metadata": {},
   "outputs": [
    {
     "name": "stdout",
     "output_type": "stream",
     "text": [
      "How far will bob walk?35\n",
      "How many degrees should bob turn?76\n",
      "How far will bob walk?20\n",
      "How many degrees should bob turn?100\n",
      "How far will bob walk?800\n",
      "How many degrees should bob turn?179\n",
      "How far will bob walk?650\n",
      "How many degrees should bob turn?35\n",
      "How far will bob walk?esc\n"
     ]
    },
    {
     "ename": "ValueError",
     "evalue": "invalid literal for int() with base 10: 'esc'",
     "output_type": "error",
     "traceback": [
      "\u001b[0;31m---------------------------------------------------------------------------\u001b[0m",
      "\u001b[0;31mValueError\u001b[0m                                Traceback (most recent call last)",
      "\u001b[0;32m<ipython-input-165-9e10410ff701>\u001b[0m in \u001b[0;36m<module>\u001b[0;34m\u001b[0m\n\u001b[1;32m     10\u001b[0m   \u001b[0;31m# ask for distance, move distance\u001b[0m\u001b[0;34m\u001b[0m\u001b[0;34m\u001b[0m\u001b[0;34m\u001b[0m\u001b[0m\n\u001b[1;32m     11\u001b[0m   \u001b[0mdistance\u001b[0m \u001b[0;34m=\u001b[0m \u001b[0minput\u001b[0m\u001b[0;34m(\u001b[0m\u001b[0;34m\"How far will bob walk?\"\u001b[0m\u001b[0;34m)\u001b[0m\u001b[0;34m\u001b[0m\u001b[0;34m\u001b[0m\u001b[0m\n\u001b[0;32m---> 12\u001b[0;31m   \u001b[0mbob\u001b[0m\u001b[0;34m.\u001b[0m\u001b[0mforward\u001b[0m\u001b[0;34m(\u001b[0m\u001b[0mint\u001b[0m\u001b[0;34m(\u001b[0m\u001b[0mdistance\u001b[0m\u001b[0;34m)\u001b[0m\u001b[0;34m)\u001b[0m\u001b[0;34m\u001b[0m\u001b[0;34m\u001b[0m\u001b[0m\n\u001b[0m\u001b[1;32m     13\u001b[0m \u001b[0;34m\u001b[0m\u001b[0m\n\u001b[1;32m     14\u001b[0m   \u001b[0;31m# ask for angle, turn angle\u001b[0m\u001b[0;34m\u001b[0m\u001b[0;34m\u001b[0m\u001b[0;34m\u001b[0m\u001b[0m\n",
      "\u001b[0;31mValueError\u001b[0m: invalid literal for int() with base 10: 'esc'"
     ]
    }
   ],
   "source": [
    "# we want to use turtle code\n",
    "import turtle\n",
    "\n",
    "# create the turtle\n",
    "bob = turtle.Turtle()\n",
    "bob.shape(\"turtle\")\n",
    "\n",
    "# infinite loop\n",
    "while True:\n",
    "  # ask for distance, move distance\n",
    "  distance = input(\"How far will bob walk?\")    \n",
    "  bob.forward(int(distance))\n",
    "\n",
    "  # ask for angle, turn angle\n",
    "  angle = input(\"How many degrees should bob turn?\")\n",
    "  bob.left(int(angle))"
   ]
  },
  {
   "cell_type": "code",
   "execution_count": 5,
   "id": "66f28f4f",
   "metadata": {},
   "outputs": [],
   "source": [
    "import turtle\n",
    "def branch(length,t):\n",
    "    if length > 30:\n",
    "        t.color(\"red\")\n",
    "        t.forward(length/3)\n",
    "        t.right(25)\n",
    "        branch(length/2,t)\n",
    "        t.right(25)\n",
    "        branch(length/2,t)\n",
    "        t.left(100)\n",
    "        branch(length/2,t)\n",
    "        2\n",
    "        t.right(25)\n",
    "        branch(length/2,t)\n",
    "        t.right(25)\n",
    "        branch(length/2,t)\n",
    "        t.color(\"blue\")\n",
    "        t.backward(length/3)\n",
    "def main():\n",
    "    t = turtle.Turtle()\n",
    "    \n",
    "    branch(300,t)\n",
    "    turtle.done()"
   ]
  },
  {
   "cell_type": "code",
   "execution_count": 4,
   "id": "cfade680",
   "metadata": {},
   "outputs": [],
   "source": [
    "main()"
   ]
  },
  {
   "cell_type": "markdown",
   "id": "6762fce6",
   "metadata": {},
   "source": [
    "When this code is run, the program creates a little flower - a sideways dandelion."
   ]
  },
  {
   "cell_type": "markdown",
   "id": "50be448e",
   "metadata": {},
   "source": [
    "# Libraries "
   ]
  },
  {
   "cell_type": "code",
   "execution_count": 1,
   "id": "63b92896",
   "metadata": {},
   "outputs": [],
   "source": [
    "import pandas as pd"
   ]
  },
  {
   "cell_type": "code",
   "execution_count": 32,
   "id": "8df33412",
   "metadata": {},
   "outputs": [
    {
     "data": {
      "text/html": [
       "<div>\n",
       "<style scoped>\n",
       "    .dataframe tbody tr th:only-of-type {\n",
       "        vertical-align: middle;\n",
       "    }\n",
       "\n",
       "    .dataframe tbody tr th {\n",
       "        vertical-align: top;\n",
       "    }\n",
       "\n",
       "    .dataframe thead th {\n",
       "        text-align: right;\n",
       "    }\n",
       "</style>\n",
       "<table border=\"1\" class=\"dataframe\">\n",
       "  <thead>\n",
       "    <tr style=\"text-align: right;\">\n",
       "      <th></th>\n",
       "      <th>sepal_length</th>\n",
       "      <th>sepal_width</th>\n",
       "      <th>petal_length</th>\n",
       "      <th>petal_width</th>\n",
       "      <th>type</th>\n",
       "    </tr>\n",
       "  </thead>\n",
       "  <tbody>\n",
       "    <tr>\n",
       "      <th>0</th>\n",
       "      <td>5.1</td>\n",
       "      <td>3.5</td>\n",
       "      <td>1.4</td>\n",
       "      <td>0.2</td>\n",
       "      <td>Iris-setosa</td>\n",
       "    </tr>\n",
       "    <tr>\n",
       "      <th>1</th>\n",
       "      <td>4.9</td>\n",
       "      <td>3.0</td>\n",
       "      <td>1.4</td>\n",
       "      <td>0.2</td>\n",
       "      <td>Iris-setosa</td>\n",
       "    </tr>\n",
       "    <tr>\n",
       "      <th>2</th>\n",
       "      <td>4.7</td>\n",
       "      <td>3.2</td>\n",
       "      <td>1.3</td>\n",
       "      <td>0.2</td>\n",
       "      <td>Iris-setosa</td>\n",
       "    </tr>\n",
       "    <tr>\n",
       "      <th>3</th>\n",
       "      <td>4.6</td>\n",
       "      <td>3.1</td>\n",
       "      <td>1.5</td>\n",
       "      <td>0.2</td>\n",
       "      <td>Iris-setosa</td>\n",
       "    </tr>\n",
       "    <tr>\n",
       "      <th>4</th>\n",
       "      <td>5.0</td>\n",
       "      <td>3.6</td>\n",
       "      <td>1.4</td>\n",
       "      <td>0.2</td>\n",
       "      <td>Iris-setosa</td>\n",
       "    </tr>\n",
       "  </tbody>\n",
       "</table>\n",
       "</div>"
      ],
      "text/plain": [
       "   sepal_length  sepal_width  petal_length  petal_width         type\n",
       "0           5.1          3.5           1.4          0.2  Iris-setosa\n",
       "1           4.9          3.0           1.4          0.2  Iris-setosa\n",
       "2           4.7          3.2           1.3          0.2  Iris-setosa\n",
       "3           4.6          3.1           1.5          0.2  Iris-setosa\n",
       "4           5.0          3.6           1.4          0.2  Iris-setosa"
      ]
     },
     "execution_count": 32,
     "metadata": {},
     "output_type": "execute_result"
    }
   ],
   "source": [
    "df = pd.read_csv(\"/Users/nandini_samanta/Documents/Everything/School/Senior Year/Spring Semester/BIOL 160/iris.data\", names=['sepal_length', 'sepal_width', 'petal_length', 'petal_width', 'type'])\n",
    "df.head(n=5)"
   ]
  },
  {
   "cell_type": "code",
   "execution_count": 33,
   "id": "b9d80720",
   "metadata": {},
   "outputs": [
    {
     "data": {
      "text/plain": [
       "(150, 5)"
      ]
     },
     "execution_count": 33,
     "metadata": {},
     "output_type": "execute_result"
    },
    {
     "data": {
      "text/plain": [
       "750"
      ]
     },
     "execution_count": 33,
     "metadata": {},
     "output_type": "execute_result"
    }
   ],
   "source": [
    "df.shape\n",
    "df.size"
   ]
  },
  {
   "cell_type": "markdown",
   "id": "23091bb4",
   "metadata": {},
   "source": [
    "There are 5 attributes, and 750 observations."
   ]
  },
  {
   "cell_type": "code",
   "execution_count": 34,
   "id": "77a5ef58",
   "metadata": {},
   "outputs": [],
   "source": [
    "import numpy as np"
   ]
  },
  {
   "cell_type": "code",
   "execution_count": 103,
   "id": "176ef070",
   "metadata": {},
   "outputs": [],
   "source": [
    "petal_length = np.array(df[\"petal_length\"])"
   ]
  },
  {
   "cell_type": "code",
   "execution_count": 89,
   "id": "1503c143",
   "metadata": {},
   "outputs": [
    {
     "data": {
      "text/html": [
       "<div>\n",
       "<style scoped>\n",
       "    .dataframe tbody tr th:only-of-type {\n",
       "        vertical-align: middle;\n",
       "    }\n",
       "\n",
       "    .dataframe tbody tr th {\n",
       "        vertical-align: top;\n",
       "    }\n",
       "\n",
       "    .dataframe thead th {\n",
       "        text-align: right;\n",
       "    }\n",
       "</style>\n",
       "<table border=\"1\" class=\"dataframe\">\n",
       "  <thead>\n",
       "    <tr style=\"text-align: right;\">\n",
       "      <th></th>\n",
       "      <th>sepal_length</th>\n",
       "      <th>sepal_width</th>\n",
       "      <th>petal_length</th>\n",
       "      <th>petal_width</th>\n",
       "      <th>type</th>\n",
       "    </tr>\n",
       "  </thead>\n",
       "  <tbody>\n",
       "    <tr>\n",
       "      <th>0</th>\n",
       "      <td>False</td>\n",
       "      <td>False</td>\n",
       "      <td>False</td>\n",
       "      <td>False</td>\n",
       "      <td>False</td>\n",
       "    </tr>\n",
       "    <tr>\n",
       "      <th>1</th>\n",
       "      <td>False</td>\n",
       "      <td>False</td>\n",
       "      <td>False</td>\n",
       "      <td>False</td>\n",
       "      <td>False</td>\n",
       "    </tr>\n",
       "    <tr>\n",
       "      <th>2</th>\n",
       "      <td>False</td>\n",
       "      <td>False</td>\n",
       "      <td>False</td>\n",
       "      <td>False</td>\n",
       "      <td>False</td>\n",
       "    </tr>\n",
       "    <tr>\n",
       "      <th>3</th>\n",
       "      <td>False</td>\n",
       "      <td>False</td>\n",
       "      <td>False</td>\n",
       "      <td>False</td>\n",
       "      <td>False</td>\n",
       "    </tr>\n",
       "    <tr>\n",
       "      <th>4</th>\n",
       "      <td>False</td>\n",
       "      <td>False</td>\n",
       "      <td>False</td>\n",
       "      <td>False</td>\n",
       "      <td>False</td>\n",
       "    </tr>\n",
       "    <tr>\n",
       "      <th>...</th>\n",
       "      <td>...</td>\n",
       "      <td>...</td>\n",
       "      <td>...</td>\n",
       "      <td>...</td>\n",
       "      <td>...</td>\n",
       "    </tr>\n",
       "    <tr>\n",
       "      <th>145</th>\n",
       "      <td>False</td>\n",
       "      <td>False</td>\n",
       "      <td>False</td>\n",
       "      <td>False</td>\n",
       "      <td>False</td>\n",
       "    </tr>\n",
       "    <tr>\n",
       "      <th>146</th>\n",
       "      <td>False</td>\n",
       "      <td>False</td>\n",
       "      <td>False</td>\n",
       "      <td>False</td>\n",
       "      <td>False</td>\n",
       "    </tr>\n",
       "    <tr>\n",
       "      <th>147</th>\n",
       "      <td>False</td>\n",
       "      <td>False</td>\n",
       "      <td>False</td>\n",
       "      <td>False</td>\n",
       "      <td>False</td>\n",
       "    </tr>\n",
       "    <tr>\n",
       "      <th>148</th>\n",
       "      <td>False</td>\n",
       "      <td>False</td>\n",
       "      <td>False</td>\n",
       "      <td>False</td>\n",
       "      <td>False</td>\n",
       "    </tr>\n",
       "    <tr>\n",
       "      <th>149</th>\n",
       "      <td>False</td>\n",
       "      <td>False</td>\n",
       "      <td>False</td>\n",
       "      <td>False</td>\n",
       "      <td>False</td>\n",
       "    </tr>\n",
       "  </tbody>\n",
       "</table>\n",
       "<p>150 rows × 5 columns</p>\n",
       "</div>"
      ],
      "text/plain": [
       "     sepal_length  sepal_width  petal_length  petal_width   type\n",
       "0           False        False         False        False  False\n",
       "1           False        False         False        False  False\n",
       "2           False        False         False        False  False\n",
       "3           False        False         False        False  False\n",
       "4           False        False         False        False  False\n",
       "..            ...          ...           ...          ...    ...\n",
       "145         False        False         False        False  False\n",
       "146         False        False         False        False  False\n",
       "147         False        False         False        False  False\n",
       "148         False        False         False        False  False\n",
       "149         False        False         False        False  False\n",
       "\n",
       "[150 rows x 5 columns]"
      ]
     },
     "execution_count": 89,
     "metadata": {},
     "output_type": "execute_result"
    }
   ],
   "source": [
    "np.isnan(petal_length) # no missing values "
   ]
  },
  {
   "cell_type": "code",
   "execution_count": 104,
   "id": "d30ca087",
   "metadata": {},
   "outputs": [],
   "source": [
    "df[\"Numeric_Species_Classification\"] = petal_length"
   ]
  },
  {
   "cell_type": "code",
   "execution_count": 105,
   "id": "da96c7f6",
   "metadata": {},
   "outputs": [
    {
     "data": {
      "text/html": [
       "<div>\n",
       "<style scoped>\n",
       "    .dataframe tbody tr th:only-of-type {\n",
       "        vertical-align: middle;\n",
       "    }\n",
       "\n",
       "    .dataframe tbody tr th {\n",
       "        vertical-align: top;\n",
       "    }\n",
       "\n",
       "    .dataframe thead th {\n",
       "        text-align: right;\n",
       "    }\n",
       "</style>\n",
       "<table border=\"1\" class=\"dataframe\">\n",
       "  <thead>\n",
       "    <tr style=\"text-align: right;\">\n",
       "      <th></th>\n",
       "      <th>sepal_length</th>\n",
       "      <th>sepal_width</th>\n",
       "      <th>petal_length</th>\n",
       "      <th>petal_width</th>\n",
       "      <th>type</th>\n",
       "      <th>Numeric_Species_Classification</th>\n",
       "    </tr>\n",
       "  </thead>\n",
       "  <tbody>\n",
       "    <tr>\n",
       "      <th>0</th>\n",
       "      <td>5.1</td>\n",
       "      <td>3.5</td>\n",
       "      <td>1.4</td>\n",
       "      <td>0.2</td>\n",
       "      <td>Iris-setosa</td>\n",
       "      <td>1.4</td>\n",
       "    </tr>\n",
       "    <tr>\n",
       "      <th>1</th>\n",
       "      <td>4.9</td>\n",
       "      <td>3.0</td>\n",
       "      <td>1.4</td>\n",
       "      <td>0.2</td>\n",
       "      <td>Iris-setosa</td>\n",
       "      <td>1.4</td>\n",
       "    </tr>\n",
       "    <tr>\n",
       "      <th>2</th>\n",
       "      <td>4.7</td>\n",
       "      <td>3.2</td>\n",
       "      <td>1.3</td>\n",
       "      <td>0.2</td>\n",
       "      <td>Iris-setosa</td>\n",
       "      <td>1.3</td>\n",
       "    </tr>\n",
       "    <tr>\n",
       "      <th>3</th>\n",
       "      <td>4.6</td>\n",
       "      <td>3.1</td>\n",
       "      <td>1.5</td>\n",
       "      <td>0.2</td>\n",
       "      <td>Iris-setosa</td>\n",
       "      <td>1.5</td>\n",
       "    </tr>\n",
       "    <tr>\n",
       "      <th>4</th>\n",
       "      <td>5.0</td>\n",
       "      <td>3.6</td>\n",
       "      <td>1.4</td>\n",
       "      <td>0.2</td>\n",
       "      <td>Iris-setosa</td>\n",
       "      <td>1.4</td>\n",
       "    </tr>\n",
       "  </tbody>\n",
       "</table>\n",
       "</div>"
      ],
      "text/plain": [
       "   sepal_length  sepal_width  petal_length  petal_width         type  \\\n",
       "0           5.1          3.5           1.4          0.2  Iris-setosa   \n",
       "1           4.9          3.0           1.4          0.2  Iris-setosa   \n",
       "2           4.7          3.2           1.3          0.2  Iris-setosa   \n",
       "3           4.6          3.1           1.5          0.2  Iris-setosa   \n",
       "4           5.0          3.6           1.4          0.2  Iris-setosa   \n",
       "\n",
       "   Numeric_Species_Classification  \n",
       "0                             1.4  \n",
       "1                             1.4  \n",
       "2                             1.3  \n",
       "3                             1.5  \n",
       "4                             1.4  "
      ]
     },
     "execution_count": 105,
     "metadata": {},
     "output_type": "execute_result"
    }
   ],
   "source": [
    "df.head()"
   ]
  },
  {
   "cell_type": "code",
   "execution_count": 111,
   "id": "42baffa9",
   "metadata": {},
   "outputs": [
    {
     "data": {
      "text/html": [
       "<div>\n",
       "<style scoped>\n",
       "    .dataframe tbody tr th:only-of-type {\n",
       "        vertical-align: middle;\n",
       "    }\n",
       "\n",
       "    .dataframe tbody tr th {\n",
       "        vertical-align: top;\n",
       "    }\n",
       "\n",
       "    .dataframe thead th {\n",
       "        text-align: right;\n",
       "    }\n",
       "</style>\n",
       "<table border=\"1\" class=\"dataframe\">\n",
       "  <thead>\n",
       "    <tr style=\"text-align: right;\">\n",
       "      <th></th>\n",
       "      <th>sepal_length</th>\n",
       "      <th>sepal_width</th>\n",
       "      <th>petal_length</th>\n",
       "      <th>petal_width</th>\n",
       "      <th>type</th>\n",
       "      <th>Numeric_Species_Classification</th>\n",
       "      <th>Petal_Length_Classification</th>\n",
       "    </tr>\n",
       "  </thead>\n",
       "  <tbody>\n",
       "    <tr>\n",
       "      <th>130</th>\n",
       "      <td>7.4</td>\n",
       "      <td>2.8</td>\n",
       "      <td>6.1</td>\n",
       "      <td>1.9</td>\n",
       "      <td>Iris-virginica</td>\n",
       "      <td>6.1</td>\n",
       "      <td>Long</td>\n",
       "    </tr>\n",
       "    <tr>\n",
       "      <th>32</th>\n",
       "      <td>5.2</td>\n",
       "      <td>4.1</td>\n",
       "      <td>1.5</td>\n",
       "      <td>0.1</td>\n",
       "      <td>Iris-setosa</td>\n",
       "      <td>1.5</td>\n",
       "      <td>Short</td>\n",
       "    </tr>\n",
       "    <tr>\n",
       "      <th>104</th>\n",
       "      <td>6.5</td>\n",
       "      <td>3.0</td>\n",
       "      <td>5.8</td>\n",
       "      <td>2.2</td>\n",
       "      <td>Iris-virginica</td>\n",
       "      <td>5.8</td>\n",
       "      <td>Long</td>\n",
       "    </tr>\n",
       "    <tr>\n",
       "      <th>52</th>\n",
       "      <td>6.9</td>\n",
       "      <td>3.1</td>\n",
       "      <td>4.9</td>\n",
       "      <td>1.5</td>\n",
       "      <td>Iris-versicolor</td>\n",
       "      <td>4.9</td>\n",
       "      <td>Long</td>\n",
       "    </tr>\n",
       "    <tr>\n",
       "      <th>114</th>\n",
       "      <td>5.8</td>\n",
       "      <td>2.8</td>\n",
       "      <td>5.1</td>\n",
       "      <td>2.4</td>\n",
       "      <td>Iris-virginica</td>\n",
       "      <td>5.1</td>\n",
       "      <td>Long</td>\n",
       "    </tr>\n",
       "    <tr>\n",
       "      <th>100</th>\n",
       "      <td>6.3</td>\n",
       "      <td>3.3</td>\n",
       "      <td>6.0</td>\n",
       "      <td>2.5</td>\n",
       "      <td>Iris-virginica</td>\n",
       "      <td>6.0</td>\n",
       "      <td>Long</td>\n",
       "    </tr>\n",
       "    <tr>\n",
       "      <th>74</th>\n",
       "      <td>6.4</td>\n",
       "      <td>2.9</td>\n",
       "      <td>4.3</td>\n",
       "      <td>1.3</td>\n",
       "      <td>Iris-versicolor</td>\n",
       "      <td>4.3</td>\n",
       "      <td>Long</td>\n",
       "    </tr>\n",
       "    <tr>\n",
       "      <th>112</th>\n",
       "      <td>6.8</td>\n",
       "      <td>3.0</td>\n",
       "      <td>5.5</td>\n",
       "      <td>2.1</td>\n",
       "      <td>Iris-virginica</td>\n",
       "      <td>5.5</td>\n",
       "      <td>Long</td>\n",
       "    </tr>\n",
       "    <tr>\n",
       "      <th>8</th>\n",
       "      <td>4.4</td>\n",
       "      <td>2.9</td>\n",
       "      <td>1.4</td>\n",
       "      <td>0.2</td>\n",
       "      <td>Iris-setosa</td>\n",
       "      <td>1.4</td>\n",
       "      <td>Short</td>\n",
       "    </tr>\n",
       "    <tr>\n",
       "      <th>59</th>\n",
       "      <td>5.2</td>\n",
       "      <td>2.7</td>\n",
       "      <td>3.9</td>\n",
       "      <td>1.4</td>\n",
       "      <td>Iris-versicolor</td>\n",
       "      <td>3.9</td>\n",
       "      <td>Long</td>\n",
       "    </tr>\n",
       "  </tbody>\n",
       "</table>\n",
       "</div>"
      ],
      "text/plain": [
       "     sepal_length  sepal_width  petal_length  petal_width             type  \\\n",
       "130           7.4          2.8           6.1          1.9   Iris-virginica   \n",
       "32            5.2          4.1           1.5          0.1      Iris-setosa   \n",
       "104           6.5          3.0           5.8          2.2   Iris-virginica   \n",
       "52            6.9          3.1           4.9          1.5  Iris-versicolor   \n",
       "114           5.8          2.8           5.1          2.4   Iris-virginica   \n",
       "100           6.3          3.3           6.0          2.5   Iris-virginica   \n",
       "74            6.4          2.9           4.3          1.3  Iris-versicolor   \n",
       "112           6.8          3.0           5.5          2.1   Iris-virginica   \n",
       "8             4.4          2.9           1.4          0.2      Iris-setosa   \n",
       "59            5.2          2.7           3.9          1.4  Iris-versicolor   \n",
       "\n",
       "     Numeric_Species_Classification Petal_Length_Classification  \n",
       "130                             6.1                        Long  \n",
       "32                              1.5                       Short  \n",
       "104                             5.8                        Long  \n",
       "52                              4.9                        Long  \n",
       "114                             5.1                        Long  \n",
       "100                             6.0                        Long  \n",
       "74                              4.3                        Long  \n",
       "112                             5.5                        Long  \n",
       "8                               1.4                       Short  \n",
       "59                              3.9                        Long  "
      ]
     },
     "execution_count": 111,
     "metadata": {},
     "output_type": "execute_result"
    }
   ],
   "source": [
    "len_class = []\n",
    "for i in range(0, len(petal_length)):\n",
    "    if petal_length[i] <3: \n",
    "        len_class.append(\"Short\")\n",
    "    else:\n",
    "        len_class.append(\"Long\")\n",
    "        \n",
    "df[\"Petal_Length_Classification\"] = len_class\n",
    "df.sample(10)"
   ]
  },
  {
   "cell_type": "markdown",
   "id": "a93b8eec",
   "metadata": {},
   "source": [
    "Prefer R! "
   ]
  }
 ],
 "metadata": {
  "kernelspec": {
   "display_name": "Python 3",
   "language": "python",
   "name": "python3"
  },
  "language_info": {
   "codemirror_mode": {
    "name": "ipython",
    "version": 3
   },
   "file_extension": ".py",
   "mimetype": "text/x-python",
   "name": "python",
   "nbconvert_exporter": "python",
   "pygments_lexer": "ipython3",
   "version": "3.8.8"
  }
 },
 "nbformat": 4,
 "nbformat_minor": 5
}
